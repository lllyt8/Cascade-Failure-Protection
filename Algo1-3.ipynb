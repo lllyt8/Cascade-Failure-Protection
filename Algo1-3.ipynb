import networkx as nx
import random
import numpy as np

epsilon = 0.3
eta = 0.5
delta = 0.5

def calculate_gamma(epsilon, eta, delta, E_prime_size, k_max):
    gamma = (1 + epsilon) * ((4/3 * epsilon + 8 * eta) / epsilon**2) * np.log(3 * (E_prime_size / k_max) / delta)
    return int(np.ceil(gamma))

def generate_input_graph(num_nodes):
    G = nx.connected_watts_strogatz_graph(num_nodes, 4, 0.2)
    return G

def add_dummy_node_and_edges(G, dummy_node_label='D'):
    G.add_node(dummy_node_label)
    for node in G.nodes():
        if node != dummy_node_label:
            G.add_edge(dummy_node_label, node)

def generate_edge_probabilities(G):
    edge_values = {(u, v): random.random() for u, v in G.edges()}
    edge_values.update({(v, u): value for (u, v), value in edge_values.items()})
    return edge_values

def diffusion_sampling(G, D, p, S):
    T = [D]
    VgS = set([D])
    EgS = set()
    while T:
        u = T.pop()
        for v in G.neighbors(u):
            if (u, v) not in S and (v, u) not in S:
                r = random.uniform(0, 1)
                if r <= p[(u, v)]:
                    if v not in VgS:
                        T.append(v)
                        VgS.add(v)
                    EgS.add((u, v))
    return VgS, EgS

def JR(S, R, D):
    sum_influences = 0
    for Vg, Eg in R:
        gS = create_graph_from_nodes_and_edges(Vg, Eg)
        sum_influences += len(RD(gS, D)) - len(RD(create_graph_from_nodes_and_edges(Vg, Eg.difference(S)), D))
    return sum_influences / len(R)

def RD(gS, D):
    return set(nx.single_source_shortest_path_length(gS, D).keys())

def create_graph_from_nodes_and_edges(nodes, edges):
    G = nx.Graph()
    G.add_nodes_from(nodes)
    G.add_edges_from(edges)
    return G

def GreedySelection(G, R, B, D):
    Sk = set()
    Ck = 0
    while Ck < B:
        max_gain = 0
        e_star = None
        for e in G.edges():
            if e not in Sk:
                gain = JR(Sk.union({e}), R, D) - JR(Sk, R, D)
                if gain > max_gain:
                    max_gain = gain
                    e_star = e
        if e_star is None:
            break
        Sk.add(e_star)
        Ck += 1
    return Sk

def SamplingFramework(G, D, B):
    E_prime_size = G.number_of_edges()
    k_max = max(dict(G.degree()).values())
    NR = calculate_gamma(epsilon, eta, delta, E_prime_size, k_max)

    R = []
    for _ in range(NR):
        Vg, Eg = diffusion_sampling(G, D, edge_values, set())
        R.append((Vg, Eg))

    Sk = GreedySelection(G, R, B, D)

    i = 1
    while len(R) < i * NR:
        for _ in range(NR):
            Vg, Eg = diffusion_sampling(G, D, edge_values, set())
            R.append((Vg, Eg))

        Sk = GreedySelection(G, R, B, D)
        i += 1

    return Sk

num_nodes = 100
G = generate_input_graph(num_nodes)
add_dummy_node_and_edges(G)
edge_values = generate_edge_probabilities(G)
D = 'D'
B = 10

protected_edges = SamplingFramework(G, D, B)
print(protected_edges)
